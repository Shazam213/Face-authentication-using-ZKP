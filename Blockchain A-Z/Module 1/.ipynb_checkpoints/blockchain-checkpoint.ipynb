{
 "cells": [
  {
   "cell_type": "code",
   "execution_count": null,
   "id": "f11789e8",
   "metadata": {},
   "outputs": [],
   "source": [
    "# Module 1 - Create Blockhain\n",
    "\n",
    "# importing libraries\n",
    "import datetime\n",
    "import hashlib\n",
    "import json\n",
    "import flask import Flask, jsonify\n",
    "\n",
    "# Part 1 : Building a Blockchain\n",
    "class Blockchain:\n",
    "    def __init__(self):\n",
    "        self.chain = []\n",
    "        self.create_block(proof = 1, previous_hash = '0') # we use some function from the library which accepts only string as input\n",
    "    \n",
    "    def create_block(self, proof, previous_hash):\n",
    "        block = {'index': len(self.chain)+1,\n",
    "                'timestamp': str(datetime.datetime.now()),\n",
    "                'proof': proof,\n",
    "                'previous_hash': previous_hash}\n",
    "        self.chain.append(block)\n",
    "        return block\n",
    "    \n",
    "    def get_previous_block(self):\n",
    "        return self.chain[-1]\n",
    "    \n",
    "    "
   ]
  }
 ],
 "metadata": {
  "kernelspec": {
   "display_name": "Python 3 (ipykernel)",
   "language": "python",
   "name": "python3"
  },
  "language_info": {
   "codemirror_mode": {
    "name": "ipython",
    "version": 3
   },
   "file_extension": ".py",
   "mimetype": "text/x-python",
   "name": "python",
   "nbconvert_exporter": "python",
   "pygments_lexer": "ipython3",
   "version": "3.9.12"
  }
 },
 "nbformat": 4,
 "nbformat_minor": 5
}
