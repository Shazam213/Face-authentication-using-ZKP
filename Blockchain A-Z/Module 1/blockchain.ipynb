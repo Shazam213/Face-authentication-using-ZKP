{
 "cells": [
  {
   "cell_type": "code",
   "execution_count": null,
   "id": "f11789e8",
   "metadata": {},
   "outputs": [],
   "source": [
    "# Module 1 - Create Blockhain\n",
    "\n",
    "# importing libraries\n",
    "import datetime\n",
    "import hashlib\n",
    "import json\n",
    "import flask import Flask, jsonify\n",
    "\n",
    "# Part 1 : Building a Blockchain\n",
    "class Blockchain:\n",
    "    def __init__(self):\n",
    "        self.chain = []\n",
    "        self.create_block(proof = 1, previous_hash = '0') # we use some function from the library which accepts only string as input\n",
    "    \n",
    "    def create_block(self, proof, previous_hash):\n",
    "        block = {'index': len(self.chain)+1,\n",
    "                'timestamp': str(datetime.datetime.now()),\n",
    "                'proof': proof,\n",
    "                'previous_hash': previous_hash}\n",
    "        self.chain.append(block)\n",
    "        return block\n",
    "    \n",
    "    def get_previous_block(self):\n",
    "        return self.chain[-1]\n",
    "    \n",
    "    def proof_of_work(self, previous_proof):\n",
    "        new_proof = 1\n",
    "        check_proof = False\n",
    "        while check_proof != True:\n",
    "            hash_operation = hashlib.sha256(new_proof**2 - previous_proof**2)\n",
    "            "
   ]
  }
 ],
 "metadata": {
  "kernelspec": {
   "display_name": "Python 3 (ipykernel)",
   "language": "python",
   "name": "python3"
  },
  "language_info": {
   "codemirror_mode": {
    "name": "ipython",
    "version": 3
   },
   "file_extension": ".py",
   "mimetype": "text/x-python",
   "name": "python",
   "nbconvert_exporter": "python",
   "pygments_lexer": "ipython3",
   "version": "3.9.12"
  }
 },
 "nbformat": 4,
 "nbformat_minor": 5
}
